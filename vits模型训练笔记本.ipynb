{
  "cells": [
    {
      "cell_type": "markdown",
      "metadata": {
        "id": "view-in-github",
        "colab_type": "text"
      },
      "source": [
        "<a href=\"https://colab.research.google.com/github/carrotmet/my-first-/blob/main/vits%E6%A8%A1%E5%9E%8B%E8%AE%AD%E7%BB%83%E7%AC%94%E8%AE%B0%E6%9C%AC.ipynb\" target=\"_parent\"><img src=\"https://colab.research.google.com/assets/colab-badge.svg\" alt=\"Open In Colab\"/></a>"
      ]
    },
    {
      "cell_type": "markdown",
      "source": [
        "Forked from https://github.com/CjangCjengh/vits/blob/main/vits.ipynb\n",
        "\n",
        "该笔记本可用于训练vits单人和多人模型，不包括语音合成。\n",
        "\n",
        "**请注意该笔记本不包括合成语音，而且默认只保存一个checkpoint以节省空间。**\n",
        "\n",
        "**默认每隔1000次迭代保存一次，可在“每隔多少次迭代保存一次断点”部分进行修改。**\n",
        "\n",
        "**在看到进度save之前不要轻易退出，以免丢失进度。**\n",
        "\n",
        "vits的配置较繁琐，简单配置可使用[tacotron2笔记本](https://colab.research.google.com/drive/18fbCupSaQde-FtF2Z2Na-LP5BrukjNMs?usp=sharing)\n",
        "\n",
        "\n",
        "\n"
      ],
      "metadata": {
        "id": "hw61j0aOOoNZ"
      }
    },
    {
      "cell_type": "code",
      "source": [
        "#@title 准备\n",
        "#@markdown 定义工具函数 `run_command` `run_command_by_line` `get_symbols` 和 `get_tensorboard_showing`\n",
        "# forked from https://www.endpointdev.com/blog/2015/01/getting-realtime-output-using-python/\n",
        "import os\n",
        "import subprocess\n",
        "def run_command(command_args):\n",
        "    def print_pipe(raw):\n",
        "        return print(raw.decode(\"utf-8\"), end='')\n",
        "    try:\n",
        "      process = subprocess.Popen(command_args, stdout=subprocess.PIPE, stderr=subprocess.PIPE)\n",
        "      out, err = process.communicate()\n",
        "    except:\n",
        "      pass\n",
        "    print_pipe(out)\n",
        "    print_pipe(err)\n",
        "    rc = process.poll()\n",
        "    return rc\n",
        "\n",
        "def run_command_by_line(command_args):\n",
        "    def print_pipe(raw):\n",
        "        return print(raw.decode(\"utf-8\"), end='')\n",
        "    with subprocess.Popen(command_args, stdout=subprocess.PIPE, stderr=subprocess.PIPE) as process:\n",
        "      while process.poll() is None:\n",
        "        print_pipe(process.stdout.readline())\n",
        "      [print_pipe(line) for line in process.stderr.readlines()]\n",
        "    return\n",
        "\n",
        "'''\n",
        "Defines the set of symbols used in text input to the model.\n",
        "'''\n",
        "\n",
        "symbols_map = {\n",
        "    \"japanese_cleaners\": {\n",
        "        \"_pad\": '_',\n",
        "        \"_punctuation\": ',.!?-',\n",
        "        \"_letters\": 'AEINOQUabdefghijkmnoprstuvwyzʃʧ↓↑ '\n",
        "    },\n",
        "    \"korean_cleaners\": {\n",
        "        \"_pad\": '_',\n",
        "        \"_punctuation\": ',.!?…~',\n",
        "        \"_letters\": 'ㄱㄴㄷㄹㅁㅂㅅㅇㅈㅊㅋㅌㅍㅎㄲㄸㅃㅆㅉㅏㅓㅗㅜㅡㅣㅐㅔ ',\n",
        "    }\n",
        "}\n",
        "\n",
        "\n",
        "def get_symbols(specify_cleaners):\n",
        "    if specify_cleaners not in symbols_map.keys():\n",
        "        raise ValueError(\"不存在对应cleaners的symbols!\")\n",
        "    symbols = symbols_map[specify_cleaners]\n",
        "    return [symbols[\"_pad\"]] + list(symbols[\"_punctuation\"]) + list(symbols[\"_letters\"])\n",
        "\n",
        "def get_tensorboard_showing(logdir):\n",
        "    from multiprocessing import Process\n",
        "    from tensorboard import notebook\n",
        "    import tensorflow as tf\n",
        "    import time\n",
        "\n",
        "    def run_tb():\n",
        "        run_command_by_line([\"tensorboard\",\"--reload_interval\", \"30\",  \"--logdir\", logdir, \"--bind_all\"])\n",
        "    \n",
        "    def monitor_tb():\n",
        "        while True:\n",
        "            try:\n",
        "                notebook.display(height=998)\n",
        "                break\n",
        "            except Exception as e:\n",
        "                print(e)\n",
        "                time.sleep(3)\n",
        "\n",
        "    if param_enable_tb:\n",
        "        Process(target=run_tb).start()\n",
        "        Process(target=monitor_tb).start()"
      ],
      "metadata": {
        "id": "SaxypO5jwX__"
      },
      "execution_count": null,
      "outputs": []
    },
    {
      "cell_type": "code",
      "execution_count": null,
      "metadata": {
        "id": "i_0vZ-OjHVNu",
        "cellView": "form"
      },
      "outputs": [],
      "source": [
        "#@title 下载依赖库\n",
        "#@markdown 取消勾选则不会节省空间\n",
        "colab_save_space = True #@param {type:\"boolean\"}\n",
        "os.chdir('/content')\n",
        "run_command_by_line([\"git\", \"clone\", \"https://github.com/wind4000/vits.git\", \"-b\", \"save-space-2\" if colab_save_space else \"main\"])\n",
        "os.chdir('/content/vits')\n",
        "!pip install -r requirements.txt\n",
        "!sudo apt-get install espeak -y\n",
        "!sudo apt-get install p7zip-full p7zip-rar\n",
        "!pip install demjson"
      ]
    },
    {
      "cell_type": "code",
      "execution_count": null,
      "metadata": {
        "id": "ZOgjdsQgKTfD",
        "cellView": "form"
      },
      "outputs": [],
      "source": [
        "#@title 加载Google云端硬盘\n",
        "from google.colab import drive\n",
        "drive.mount('/content/drive')"
      ]
    },
    {
      "cell_type": "code",
      "execution_count": null,
      "metadata": {
        "id": "N3a-FsHghwXS",
        "cellView": "form"
      },
      "outputs": [],
      "source": [
        "#@title 解压数据集\n",
        "#@markdown 压缩包路径\n",
        "import subprocess\n",
        "dataset_path = \"/content/drive/MyDrive/dataset/YOURDATASET.zip\"  #@param {type:\"string\"}\n",
        "os.chdir('/content/vits')\n",
        "run_command_by_line([\"7z\", \"x\", dataset_path])"
      ]
    },
    {
      "cell_type": "code",
      "source": [
        "#@title 生成配置文件\n",
        "# forked from https://github.com/CjangCjengh/vits/blob/main/configs/japanese_ss_base2.json\n",
        "#@markdown 配置文件名称\n",
        "json_filename = \"test.json\" #@param {type:\"string\"}\n",
        "#@markdown 训练次数\n",
        "hparams_epochs = 2000 #@param {type:\"integer\"}\n",
        "#@markdown 每隔多少次迭代保存一次断点\n",
        "hparams_eval_interval = 200 #@param {type:\"integer\"}\n",
        "#@markdown 单次迭代的文件数（建议在16以内）\n",
        "hparams_batch_size = 12 #@param {type:\"integer\"}\n",
        "#@markdown 训练集文件列表\n",
        "hparams_training_files = \"/content/vits/filelists/list.txt\" #@param {type:\"string\"}\n",
        "#@markdown 验证集文件列表\n",
        "hparams_validation_files = \"/content/vits/filelists/list.txt\"#@param {type:\"string\"}\n",
        "#@markdown 选择cleaner\n",
        "hparams_cleaner =  \"japanese_cleaners\" #@param {type:\"string\"}\n",
        "#@markdown 人物名，多个人物用英文逗号隔开\n",
        "hparams_speaker = \"test\" #@param {type:\"string\"}\n",
        "#@markdown 模型名\n",
        "hparams_model_name = \"test\" #@param {type:\"string\"}\n",
        "\n",
        "hparams_symbols = get_symbols(hparams_cleaner)\n",
        "speakers = [speaker.strip() for speaker in hparams_speaker.split(\",\")]\n",
        "print(\"speakers: \")\n",
        "for i, speaker in enumerate(speakers):\n",
        "  print(\"\\t{a}: {b}\".format(a=i, b=speaker))\n",
        "training_json = {\n",
        "  \"train\": {\n",
        "    \"log_interval\": 200,\n",
        "    \"eval_interval\": hparams_eval_interval,\n",
        "    \"seed\": 1234 ,\n",
        "    \"epochs\": hparams_epochs,\n",
        "    \"learning_rate\": 2e-4,\n",
        "    \"betas\": [0.8, 0.99],\n",
        "    \"eps\": 1e-9,\n",
        "    \"batch_size\": hparams_batch_size,\n",
        "    \"fp16_run\": True,\n",
        "    \"lr_decay\": 0.999875,\n",
        "    \"segment_size\": 8192,\n",
        "    \"init_lr_ratio\": 1,\n",
        "    \"warmup_epochs\": 0,\n",
        "    \"c_mel\": 45,\n",
        "    \"c_kl\": 1.0\n",
        "  },\n",
        "  \"data\": {\n",
        "    \"training_files\": hparams_training_files + \".cleaned\",\n",
        "    \"validation_files\": hparams_validation_files + \".cleaned\",\n",
        "    \"text_cleaners\":[hparams_cleaner],\n",
        "    \"max_wav_value\": 32768.0,\n",
        "    \"sampling_rate\": 22050,\n",
        "    \"filter_length\": 1024,\n",
        "    \"hop_length\": 256,\n",
        "    \"win_length\": 1024,\n",
        "    \"n_mel_channels\": 80,\n",
        "    \"mel_fmin\": 0.0,\n",
        "    \"mel_fmax\": None,\n",
        "    \"add_blank\": True,\n",
        "    \"n_speakers\": len(speakers) if len(speakers) > 1 else 0,\n",
        "    \"cleaned_text\": True\n",
        "  },\n",
        "  \"model\": {\n",
        "    \"inter_channels\": 192,\n",
        "    \"hidden_channels\": 192,\n",
        "    \"filter_channels\": 768,\n",
        "    \"n_heads\": 2,\n",
        "    \"n_layers\": 6,\n",
        "    \"kernel_size\": 3,\n",
        "    \"p_dropout\": 0.1,\n",
        "    \"resblock\": \"1\",\n",
        "    \"resblock_kernel_sizes\": [3,7,11],\n",
        "    \"resblock_dilation_sizes\": [[1,3,5], [1,3,5], [1,3,5]],\n",
        "    \"upsample_rates\": [8,8,2,2],\n",
        "    \"upsample_initial_channel\": 512,\n",
        "    \"upsample_kernel_sizes\": [16,16,4,4],\n",
        "    \"n_layers_q\": 3,\n",
        "    \"use_spectral_norm\": False,\n",
        "  },\n",
        "  \"speakers\": speakers,\n",
        "  \"symbols\": hparams_symbols\n",
        "}\n",
        "\n",
        "if len(speakers) > 1:\n",
        "  training_json[\"model\"][\"gin_channels\"] = 256\n",
        "\n",
        "import demjson\n",
        "os.chdir('/content/vits/configs')\n",
        "training_json_text = demjson.encode(training_json)\n",
        "with open(json_filename, \"w\") as file:\n",
        "  file.write(training_json_text)\n",
        "\n",
        "os.chdir('/content/vits/text')\n",
        "with open(\"symbols.py\", \"w\") as file:\n",
        "  print(\"symbols = \", hparams_symbols, sep=\"\", file=file)\n",
        "os.chdir('/content/vits')\n",
        "\n"
      ],
      "metadata": {
        "id": "b0P9X9SSPl0L",
        "cellView": "form"
      },
      "execution_count": null,
      "outputs": []
    },
    {
      "cell_type": "markdown",
      "source": [
        "**目前支持的cleaner(和tacotron2版效果不同)**\n",
        "\n",
        "cleaners from https://github.com/CjangCjengh/vits\n",
        "\n",
        "1. japanese_cleaners 日语\n",
        "2. korean_cleaners 韩语"
      ],
      "metadata": {
        "id": "nsiO9Zr0TTtg"
      }
    },
    {
      "cell_type": "code",
      "execution_count": null,
      "metadata": {
        "id": "LOsV22D8IUTS",
        "cellView": "form"
      },
      "outputs": [],
      "source": [
        "#@title 预处理\n",
        "os.chdir('/content/vits/monotonic_align')\n",
        "!python setup.py build_ext --inplace\n",
        "os.chdir('/content/vits')\n",
        "run_command([\"python\", \"preprocess.py\", \"--text_index\", \"2\" if len(speakers) > 1 else \"1\", \"--text_cleaners\", hparams_cleaner, \"--filelists\", hparams_training_files, hparams_validation_files])"
      ]
    },
    {
      "cell_type": "code",
      "execution_count": null,
      "metadata": {
        "id": "ltU2JXpxIh-K",
        "cellView": "form"
      },
      "outputs": [],
      "source": [
        "#@title 训练\n",
        "\n",
        "#@markdown 启用tensorboard可视化数据\n",
        "param_enable_tb = True  # @param {type:\"boolean\"}\n",
        "if param_enable_tb:\n",
        "  logdir = os.path.join(\"/content/drive/MyDrive/\", hparams_model_name)\n",
        "  get_tensorboard_showing(logdir)\n",
        "os.chdir('/content/vits')\n",
        "run_command_by_line([\"python\", \"train_ms.py\" if len(speakers) > 1 else \"train.py\", \"-c\", \"configs/{json}\".format(json=json_filename), \"-m\", hparams_model_name])"
      ]
    },
    {
      "cell_type": "markdown",
      "source": [
        "## 工具"
      ],
      "metadata": {
        "id": "HH-1FgeSGGLc"
      }
    },
    {
      "cell_type": "markdown",
      "source": [
        "这部分辅助[MoeTTS](https://github.com/luoyily/MoeTTS)等软件用vits合成语音。\n",
        "\n",
        "运行本部分前必须执行的步骤：“准备”、“下载依赖库”、“加载Google云端硬盘”和“生成配置文件”。\n",
        "\n",
        "这部分代码不要求GPU，可使用非GPU运行时，即达到限额后仍可使用。"
      ],
      "metadata": {
        "id": "gSkJ-OniKTUd"
      }
    },
    {
      "cell_type": "code",
      "source": [
        "#@title 生成供MoeTTS使用的配置文件\n",
        "#@markdown 保存路径\n",
        "moetts_savepath = \"/content/drive/MyDrive/\" #@param {type:\"string\"}\n",
        "moetts_filepath = moetts_savepath + \"config.json\"\n",
        "training_json[\"data\"][\"cleaners\"] = [\"custom_cleaners\"]\n",
        "training_json_text = demjson.encode(training_json)\n",
        "with open(moetts_filepath, \"w\") as file:\n",
        "  file.write(training_json_text)\n",
        "print(\"已保存到\", moetts_filepath)"
      ],
      "metadata": {
        "id": "hnnXDR-KdYLt",
        "cellView": "form"
      },
      "execution_count": null,
      "outputs": []
    },
    {
      "cell_type": "code",
      "source": [
        "#@title 合成前转换文本\n",
        "os.chdir('/content/vits')\n",
        "import text\n",
        "input_text = \"\\u3053\\u308C\\u304B\\u3089\\u3082\\u3001\\u304A\\u308C\\u305F\\u3061\\u304C\\u305F\\u3061\\u3068\\u307E\\u3089\\u306A\\u3044\\u304B\\u304E\\u308A\\u3001\\u9053\\u306F\\u7D9A\\u304F\\u3002\" #@param {type:\"string\"}\n",
        "input_cleaners = \"japanese_cleaners\" #@param {type:\"string\"}\n",
        "try:\n",
        "  output_text = text._clean_text(input_text, [input_cleaners])\n",
        "  print(\"转换结果：\", output_text)\n",
        "except Exception as e:\n",
        "  print(\"文本有误？\", e)"
      ],
      "metadata": {
        "id": "2pjw4sIfGadz",
        "cellView": "form"
      },
      "execution_count": null,
      "outputs": []
    }
  ],
  "metadata": {
    "accelerator": "GPU",
    "colab": {
      "collapsed_sections": [],
      "provenance": [],
      "toc_visible": true,
      "include_colab_link": true
    },
    "gpuClass": "standard",
    "kernelspec": {
      "display_name": "Python 3",
      "name": "python3"
    },
    "language_info": {
      "name": "python"
    }
  },
  "nbformat": 4,
  "nbformat_minor": 0
}